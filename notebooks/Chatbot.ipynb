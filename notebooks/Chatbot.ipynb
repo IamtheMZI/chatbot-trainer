{
 "cells": [
  {
   "cell_type": "code",
   "execution_count": 39,
   "id": "accessory-radius",
   "metadata": {},
   "outputs": [],
   "source": [
    "import pandas as pd\n",
    "import numpy as np\n",
    "import re\n",
    "import sys  \n",
    "sys.path.insert(0, '/home/jovyan/work/chatbot-trainer/modules/')\n",
    "import bfs"
   ]
  },
  {
   "cell_type": "code",
   "execution_count": 41,
   "id": "focal-interference",
   "metadata": {},
   "outputs": [],
   "source": [
    "visited = [] # List to keep track of visited nodes.\n",
    "queue = []     #Initialize a queue\n",
    "\n",
    "def bfs(visited, graph, node):\n",
    "  visited.append(node)\n",
    "  queue.append(node)\n",
    "\n",
    "  while queue:\n",
    "    s = queue.pop(0) \n",
    "    print (s, end = \" \") \n",
    "\n",
    "    for neighbour in graph[s]:\n",
    "      if neighbour not in visited:\n",
    "        visited.append(neighbour)\n",
    "        queue.append(neighbour)\n"
   ]
  },
  {
   "cell_type": "code",
   "execution_count": 2,
   "id": "regulated-truck",
   "metadata": {},
   "outputs": [],
   "source": [
    "df = pd.read_csv(\"../data/twcs/twcs.csv\")"
   ]
  },
  {
   "cell_type": "code",
   "execution_count": 3,
   "id": "governmental-wales",
   "metadata": {},
   "outputs": [
    {
     "data": {
      "text/html": [
       "<div>\n",
       "<style scoped>\n",
       "    .dataframe tbody tr th:only-of-type {\n",
       "        vertical-align: middle;\n",
       "    }\n",
       "\n",
       "    .dataframe tbody tr th {\n",
       "        vertical-align: top;\n",
       "    }\n",
       "\n",
       "    .dataframe thead th {\n",
       "        text-align: right;\n",
       "    }\n",
       "</style>\n",
       "<table border=\"1\" class=\"dataframe\">\n",
       "  <thead>\n",
       "    <tr style=\"text-align: right;\">\n",
       "      <th></th>\n",
       "      <th>tweet_id</th>\n",
       "      <th>author_id</th>\n",
       "      <th>inbound</th>\n",
       "      <th>created_at</th>\n",
       "      <th>text</th>\n",
       "      <th>response_tweet_id</th>\n",
       "      <th>in_response_to_tweet_id</th>\n",
       "    </tr>\n",
       "  </thead>\n",
       "  <tbody>\n",
       "    <tr>\n",
       "      <th>0</th>\n",
       "      <td>1</td>\n",
       "      <td>sprintcare</td>\n",
       "      <td>False</td>\n",
       "      <td>Tue Oct 31 22:10:47 +0000 2017</td>\n",
       "      <td>@115712 I understand. I would like to assist y...</td>\n",
       "      <td>2</td>\n",
       "      <td>3.0</td>\n",
       "    </tr>\n",
       "    <tr>\n",
       "      <th>1</th>\n",
       "      <td>2</td>\n",
       "      <td>115712</td>\n",
       "      <td>True</td>\n",
       "      <td>Tue Oct 31 22:11:45 +0000 2017</td>\n",
       "      <td>@sprintcare and how do you propose we do that</td>\n",
       "      <td>NaN</td>\n",
       "      <td>1.0</td>\n",
       "    </tr>\n",
       "    <tr>\n",
       "      <th>2</th>\n",
       "      <td>3</td>\n",
       "      <td>115712</td>\n",
       "      <td>True</td>\n",
       "      <td>Tue Oct 31 22:08:27 +0000 2017</td>\n",
       "      <td>@sprintcare I have sent several private messag...</td>\n",
       "      <td>1</td>\n",
       "      <td>4.0</td>\n",
       "    </tr>\n",
       "    <tr>\n",
       "      <th>3</th>\n",
       "      <td>4</td>\n",
       "      <td>sprintcare</td>\n",
       "      <td>False</td>\n",
       "      <td>Tue Oct 31 21:54:49 +0000 2017</td>\n",
       "      <td>@115712 Please send us a Private Message so th...</td>\n",
       "      <td>3</td>\n",
       "      <td>5.0</td>\n",
       "    </tr>\n",
       "    <tr>\n",
       "      <th>4</th>\n",
       "      <td>5</td>\n",
       "      <td>115712</td>\n",
       "      <td>True</td>\n",
       "      <td>Tue Oct 31 21:49:35 +0000 2017</td>\n",
       "      <td>@sprintcare I did.</td>\n",
       "      <td>4</td>\n",
       "      <td>6.0</td>\n",
       "    </tr>\n",
       "  </tbody>\n",
       "</table>\n",
       "</div>"
      ],
      "text/plain": [
       "   tweet_id   author_id  inbound                      created_at  \\\n",
       "0         1  sprintcare    False  Tue Oct 31 22:10:47 +0000 2017   \n",
       "1         2      115712     True  Tue Oct 31 22:11:45 +0000 2017   \n",
       "2         3      115712     True  Tue Oct 31 22:08:27 +0000 2017   \n",
       "3         4  sprintcare    False  Tue Oct 31 21:54:49 +0000 2017   \n",
       "4         5      115712     True  Tue Oct 31 21:49:35 +0000 2017   \n",
       "\n",
       "                                                text response_tweet_id  \\\n",
       "0  @115712 I understand. I would like to assist y...                 2   \n",
       "1      @sprintcare and how do you propose we do that               NaN   \n",
       "2  @sprintcare I have sent several private messag...                 1   \n",
       "3  @115712 Please send us a Private Message so th...                 3   \n",
       "4                                 @sprintcare I did.                 4   \n",
       "\n",
       "   in_response_to_tweet_id  \n",
       "0                      3.0  \n",
       "1                      1.0  \n",
       "2                      4.0  \n",
       "3                      5.0  \n",
       "4                      6.0  "
      ]
     },
     "execution_count": 3,
     "metadata": {},
     "output_type": "execute_result"
    }
   ],
   "source": [
    "df.head()"
   ]
  },
  {
   "cell_type": "code",
   "execution_count": 4,
   "id": "suited-motivation",
   "metadata": {},
   "outputs": [
    {
     "data": {
      "text/plain": [
       "11"
      ]
     },
     "execution_count": 4,
     "metadata": {},
     "output_type": "execute_result"
    }
   ],
   "source": [
    "len(df[df.author_id == '115712']['text'].tolist())"
   ]
  },
  {
   "cell_type": "code",
   "execution_count": 5,
   "id": "christian-intent",
   "metadata": {},
   "outputs": [
    {
     "name": "stderr",
     "output_type": "stream",
     "text": [
      "<ipython-input-5-de960f4c1846>:1: UserWarning: Boolean Series key will be reindexed to match DataFrame index.\n",
      "  first_inbound = df[pd.isnull(df.in_response_to_tweet_id) & df.inbound][df.author_id == 'AppleSupport']\n"
     ]
    }
   ],
   "source": [
    "first_inbound = df[pd.isnull(df.in_response_to_tweet_id) & df.inbound][df.author_id == 'AppleSupport']\n",
    "\n",
    "# Get replies for first inbound tweets\n",
    "inbound_and_replies = pd.merge(first_inbound, df, left_on='tweet_id', right_on='in_response_to_tweet_id')\n",
    "\n",
    "# Remove replies that aren't from companies\n",
    "inbound_and_replies = inbound_and_replies[inbound_and_replies.inbound_y ^ True]\n",
    "\n",
    "# Replace carriage returns\n",
    "inbound_and_replies = inbound_and_replies.replace('\\r', '', regex=True)"
   ]
  },
  {
   "cell_type": "code",
   "execution_count": 6,
   "id": "short-behavior",
   "metadata": {},
   "outputs": [
    {
     "data": {
      "text/html": [
       "<div>\n",
       "<style scoped>\n",
       "    .dataframe tbody tr th:only-of-type {\n",
       "        vertical-align: middle;\n",
       "    }\n",
       "\n",
       "    .dataframe tbody tr th {\n",
       "        vertical-align: top;\n",
       "    }\n",
       "\n",
       "    .dataframe thead th {\n",
       "        text-align: right;\n",
       "    }\n",
       "</style>\n",
       "<table border=\"1\" class=\"dataframe\">\n",
       "  <thead>\n",
       "    <tr style=\"text-align: right;\">\n",
       "      <th></th>\n",
       "      <th>tweet</th>\n",
       "      <th>response</th>\n",
       "    </tr>\n",
       "  </thead>\n",
       "  <tbody>\n",
       "  </tbody>\n",
       "</table>\n",
       "</div>"
      ],
      "text/plain": [
       "Empty DataFrame\n",
       "Columns: [tweet, response]\n",
       "Index: []"
      ]
     },
     "execution_count": 6,
     "metadata": {},
     "output_type": "execute_result"
    }
   ],
   "source": [
    "tweets = inbound_and_replies[['text_x', 'text_y']]\n",
    "tweets.columns = ['tweet', 'response']\n",
    "tweets.head(50)"
   ]
  },
  {
   "cell_type": "code",
   "execution_count": 7,
   "id": "equipped-powder",
   "metadata": {},
   "outputs": [
    {
     "data": {
      "text/plain": [
       "702777"
      ]
     },
     "execution_count": 7,
     "metadata": {},
     "output_type": "execute_result"
    }
   ],
   "source": [
    "len(pd.unique(df.author_id))"
   ]
  },
  {
   "cell_type": "code",
   "execution_count": 8,
   "id": "serious-latest",
   "metadata": {},
   "outputs": [
    {
     "data": {
      "text/plain": [
       "array(['sprintcare', '115712', '115713', ..., '823868', '823869',\n",
       "       '823870'], dtype=object)"
      ]
     },
     "execution_count": 8,
     "metadata": {},
     "output_type": "execute_result"
    }
   ],
   "source": [
    "pd.unique(df.author_id)"
   ]
  },
  {
   "cell_type": "code",
   "execution_count": 9,
   "id": "powered-taylor",
   "metadata": {},
   "outputs": [
    {
     "data": {
      "text/plain": [
       "array(['sprintcare', 'Ask_Spectrum', 'VerizonSupport', 'ChipotleTweets',\n",
       "       'AskPlayStation', 'marksandspencer', 'MicrosoftHelps',\n",
       "       'ATVIAssist', 'AdobeCare', 'AmazonHelp', 'XboxSupport',\n",
       "       'AirbnbHelp', 'nationalrailenq', 'AirAsiaSupport', 'Morrisons',\n",
       "       'NikeSupport', 'AskAmex', 'McDonalds', 'YahooCare', 'AskLyft',\n",
       "       'UPSHelp', 'Delta', 'AppleSupport', 'Uber_Support', 'Tesco',\n",
       "       'SpotifyCares', 'British_Airways', 'comcastcares', 'AmericanAir',\n",
       "       'TMobileHelp', 'VirginTrains', 'SouthwestAir', 'AskeBay',\n",
       "       'hulu_support', 'GWRHelp', 'sainsburys', 'AskPayPal', 'HPSupport',\n",
       "       'ChaseSupport', 'CoxHelp', 'DropboxSupport', 'VirginAtlantic',\n",
       "       'BofA_Help', 'AzureSupport', 'AlaskaAir', 'ArgosHelpers',\n",
       "       'Postmates_Help', 'AskTarget', 'GoDaddyHelp', 'CenturyLinkHelp',\n",
       "       'AskPapaJohns', 'SW_Help', 'askpanera', 'Walmart',\n",
       "       'USCellularCares', 'AsurionCares', 'GloCare', 'idea_cares',\n",
       "       'DoorDash_Help', 'NeweggService', 'VirginAmerica',\n",
       "       'Safaricom_Care', 'DunkinDonuts', 'Ask_WellsFargo', 'O2', 'TfL',\n",
       "       'asksalesforce', 'airtel_care', 'Kimpton', 'AskCiti', 'IHGService',\n",
       "       'LondonMidland', 'JetBlue', 'BoostCare', 'JackBox', 'AldiUK',\n",
       "       'HiltonHelp', 'GooglePlayMusic', 'OfficeSupport', 'KFC_UKI_Help',\n",
       "       'DellCares', 'TwitterSupport', 'GreggsOfficial', 'ATT',\n",
       "       'TacoBellTeam', 'AskRBC', 'ArbysCares', 'NortonSupport',\n",
       "       'AskSeagate', 'sizehelpteam', 'SCsupport', 'MOO', 'AskDSC',\n",
       "       'AskVirginMoney', 'AskRobinhood', 'MTNC_Care', 'AWSSupport',\n",
       "       'VMUcare', 'mediatemplehelp', 'AskTigogh', 'PandoraSupport',\n",
       "       'askvisa', 'OPPOCareIN', 'ask_progressive', 'PearsonSupport',\n",
       "       'CarlsJr', 'HotelTonightCX', 'KeyBank_Help'], dtype=object)"
      ]
     },
     "execution_count": 9,
     "metadata": {},
     "output_type": "execute_result"
    }
   ],
   "source": [
    "pd.unique(df[df.inbound == False].author_id)\n",
    "# if company's "
   ]
  },
  {
   "cell_type": "code",
   "execution_count": 10,
   "id": "afraid-command",
   "metadata": {},
   "outputs": [
    {
     "data": {
      "text/html": [
       "<div>\n",
       "<style scoped>\n",
       "    .dataframe tbody tr th:only-of-type {\n",
       "        vertical-align: middle;\n",
       "    }\n",
       "\n",
       "    .dataframe tbody tr th {\n",
       "        vertical-align: top;\n",
       "    }\n",
       "\n",
       "    .dataframe thead th {\n",
       "        text-align: right;\n",
       "    }\n",
       "</style>\n",
       "<table border=\"1\" class=\"dataframe\">\n",
       "  <thead>\n",
       "    <tr style=\"text-align: right;\">\n",
       "      <th></th>\n",
       "      <th>tweet_id</th>\n",
       "      <th>author_id</th>\n",
       "      <th>inbound</th>\n",
       "      <th>created_at</th>\n",
       "      <th>text</th>\n",
       "      <th>response_tweet_id</th>\n",
       "      <th>in_response_to_tweet_id</th>\n",
       "    </tr>\n",
       "  </thead>\n",
       "  <tbody>\n",
       "    <tr>\n",
       "      <th>0</th>\n",
       "      <td>1</td>\n",
       "      <td>sprintcare</td>\n",
       "      <td>False</td>\n",
       "      <td>Tue Oct 31 22:10:47 +0000 2017</td>\n",
       "      <td>@115712 I understand. I would like to assist y...</td>\n",
       "      <td>2</td>\n",
       "      <td>3.0</td>\n",
       "    </tr>\n",
       "    <tr>\n",
       "      <th>1</th>\n",
       "      <td>2</td>\n",
       "      <td>115712</td>\n",
       "      <td>True</td>\n",
       "      <td>Tue Oct 31 22:11:45 +0000 2017</td>\n",
       "      <td>@sprintcare and how do you propose we do that</td>\n",
       "      <td>NaN</td>\n",
       "      <td>1.0</td>\n",
       "    </tr>\n",
       "    <tr>\n",
       "      <th>2</th>\n",
       "      <td>3</td>\n",
       "      <td>115712</td>\n",
       "      <td>True</td>\n",
       "      <td>Tue Oct 31 22:08:27 +0000 2017</td>\n",
       "      <td>@sprintcare I have sent several private messag...</td>\n",
       "      <td>1</td>\n",
       "      <td>4.0</td>\n",
       "    </tr>\n",
       "    <tr>\n",
       "      <th>3</th>\n",
       "      <td>4</td>\n",
       "      <td>sprintcare</td>\n",
       "      <td>False</td>\n",
       "      <td>Tue Oct 31 21:54:49 +0000 2017</td>\n",
       "      <td>@115712 Please send us a Private Message so th...</td>\n",
       "      <td>3</td>\n",
       "      <td>5.0</td>\n",
       "    </tr>\n",
       "    <tr>\n",
       "      <th>4</th>\n",
       "      <td>5</td>\n",
       "      <td>115712</td>\n",
       "      <td>True</td>\n",
       "      <td>Tue Oct 31 21:49:35 +0000 2017</td>\n",
       "      <td>@sprintcare I did.</td>\n",
       "      <td>4</td>\n",
       "      <td>6.0</td>\n",
       "    </tr>\n",
       "    <tr>\n",
       "      <th>5</th>\n",
       "      <td>6</td>\n",
       "      <td>sprintcare</td>\n",
       "      <td>False</td>\n",
       "      <td>Tue Oct 31 21:46:24 +0000 2017</td>\n",
       "      <td>@115712 Can you please send us a private messa...</td>\n",
       "      <td>5,7</td>\n",
       "      <td>8.0</td>\n",
       "    </tr>\n",
       "    <tr>\n",
       "      <th>6</th>\n",
       "      <td>8</td>\n",
       "      <td>115712</td>\n",
       "      <td>True</td>\n",
       "      <td>Tue Oct 31 21:45:10 +0000 2017</td>\n",
       "      <td>@sprintcare is the worst customer service</td>\n",
       "      <td>9,6,10</td>\n",
       "      <td>NaN</td>\n",
       "    </tr>\n",
       "    <tr>\n",
       "      <th>7</th>\n",
       "      <td>11</td>\n",
       "      <td>sprintcare</td>\n",
       "      <td>False</td>\n",
       "      <td>Tue Oct 31 22:10:35 +0000 2017</td>\n",
       "      <td>@115713 This is saddening to hear. Please shoo...</td>\n",
       "      <td>NaN</td>\n",
       "      <td>12.0</td>\n",
       "    </tr>\n",
       "    <tr>\n",
       "      <th>8</th>\n",
       "      <td>12</td>\n",
       "      <td>115713</td>\n",
       "      <td>True</td>\n",
       "      <td>Tue Oct 31 22:04:47 +0000 2017</td>\n",
       "      <td>@sprintcare You gonna magically change your co...</td>\n",
       "      <td>11,13,14</td>\n",
       "      <td>15.0</td>\n",
       "    </tr>\n",
       "    <tr>\n",
       "      <th>9</th>\n",
       "      <td>15</td>\n",
       "      <td>sprintcare</td>\n",
       "      <td>False</td>\n",
       "      <td>Tue Oct 31 20:03:31 +0000 2017</td>\n",
       "      <td>@115713 We understand your concerns and we'd l...</td>\n",
       "      <td>12</td>\n",
       "      <td>16.0</td>\n",
       "    </tr>\n",
       "    <tr>\n",
       "      <th>10</th>\n",
       "      <td>16</td>\n",
       "      <td>115713</td>\n",
       "      <td>True</td>\n",
       "      <td>Tue Oct 31 20:00:43 +0000 2017</td>\n",
       "      <td>@sprintcare Since I signed up with you....Sinc...</td>\n",
       "      <td>15</td>\n",
       "      <td>17.0</td>\n",
       "    </tr>\n",
       "    <tr>\n",
       "      <th>11</th>\n",
       "      <td>17</td>\n",
       "      <td>sprintcare</td>\n",
       "      <td>False</td>\n",
       "      <td>Tue Oct 31 19:59:13 +0000 2017</td>\n",
       "      <td>@115713 H there! We'd definitely like to work ...</td>\n",
       "      <td>16</td>\n",
       "      <td>18.0</td>\n",
       "    </tr>\n",
       "    <tr>\n",
       "      <th>12</th>\n",
       "      <td>18</td>\n",
       "      <td>115713</td>\n",
       "      <td>True</td>\n",
       "      <td>Tue Oct 31 19:56:01 +0000 2017</td>\n",
       "      <td>@115714 y’all lie about your “great” connectio...</td>\n",
       "      <td>17</td>\n",
       "      <td>NaN</td>\n",
       "    </tr>\n",
       "    <tr>\n",
       "      <th>13</th>\n",
       "      <td>19</td>\n",
       "      <td>sprintcare</td>\n",
       "      <td>False</td>\n",
       "      <td>Tue Oct 31 22:10:10 +0000 2017</td>\n",
       "      <td>@115715 Please send me a private message so th...</td>\n",
       "      <td>NaN</td>\n",
       "      <td>20.0</td>\n",
       "    </tr>\n",
       "    <tr>\n",
       "      <th>14</th>\n",
       "      <td>20</td>\n",
       "      <td>115715</td>\n",
       "      <td>True</td>\n",
       "      <td>Tue Oct 31 22:03:34 +0000 2017</td>\n",
       "      <td>@115714 whenever I contact customer support, t...</td>\n",
       "      <td>19</td>\n",
       "      <td>NaN</td>\n",
       "    </tr>\n",
       "    <tr>\n",
       "      <th>15</th>\n",
       "      <td>21</td>\n",
       "      <td>Ask_Spectrum</td>\n",
       "      <td>False</td>\n",
       "      <td>Tue Oct 31 22:14:37 +0000 2017</td>\n",
       "      <td>@115716 What information is incorrect? ^JK</td>\n",
       "      <td>22,23</td>\n",
       "      <td>24.0</td>\n",
       "    </tr>\n",
       "    <tr>\n",
       "      <th>16</th>\n",
       "      <td>22</td>\n",
       "      <td>115716</td>\n",
       "      <td>True</td>\n",
       "      <td>Tue Oct 31 22:16:48 +0000 2017</td>\n",
       "      <td>@Ask_Spectrum Would you like me to email you a...</td>\n",
       "      <td>25</td>\n",
       "      <td>21.0</td>\n",
       "    </tr>\n",
       "    <tr>\n",
       "      <th>17</th>\n",
       "      <td>25</td>\n",
       "      <td>Ask_Spectrum</td>\n",
       "      <td>False</td>\n",
       "      <td>Tue Oct 31 22:18:28 +0000 2017</td>\n",
       "      <td>@115716 Our department is part of the corporat...</td>\n",
       "      <td>26</td>\n",
       "      <td>22.0</td>\n",
       "    </tr>\n",
       "    <tr>\n",
       "      <th>18</th>\n",
       "      <td>26</td>\n",
       "      <td>115716</td>\n",
       "      <td>True</td>\n",
       "      <td>Tue Oct 31 22:19:56 +0000 2017</td>\n",
       "      <td>@Ask_Spectrum I received this from your corpor...</td>\n",
       "      <td>27</td>\n",
       "      <td>25.0</td>\n",
       "    </tr>\n",
       "    <tr>\n",
       "      <th>19</th>\n",
       "      <td>27</td>\n",
       "      <td>Ask_Spectrum</td>\n",
       "      <td>False</td>\n",
       "      <td>Tue Oct 31 22:21:26 +0000 2017</td>\n",
       "      <td>@115716 No thank you. ^JK</td>\n",
       "      <td>NaN</td>\n",
       "      <td>26.0</td>\n",
       "    </tr>\n",
       "  </tbody>\n",
       "</table>\n",
       "</div>"
      ],
      "text/plain": [
       "    tweet_id     author_id  inbound                      created_at  \\\n",
       "0          1    sprintcare    False  Tue Oct 31 22:10:47 +0000 2017   \n",
       "1          2        115712     True  Tue Oct 31 22:11:45 +0000 2017   \n",
       "2          3        115712     True  Tue Oct 31 22:08:27 +0000 2017   \n",
       "3          4    sprintcare    False  Tue Oct 31 21:54:49 +0000 2017   \n",
       "4          5        115712     True  Tue Oct 31 21:49:35 +0000 2017   \n",
       "5          6    sprintcare    False  Tue Oct 31 21:46:24 +0000 2017   \n",
       "6          8        115712     True  Tue Oct 31 21:45:10 +0000 2017   \n",
       "7         11    sprintcare    False  Tue Oct 31 22:10:35 +0000 2017   \n",
       "8         12        115713     True  Tue Oct 31 22:04:47 +0000 2017   \n",
       "9         15    sprintcare    False  Tue Oct 31 20:03:31 +0000 2017   \n",
       "10        16        115713     True  Tue Oct 31 20:00:43 +0000 2017   \n",
       "11        17    sprintcare    False  Tue Oct 31 19:59:13 +0000 2017   \n",
       "12        18        115713     True  Tue Oct 31 19:56:01 +0000 2017   \n",
       "13        19    sprintcare    False  Tue Oct 31 22:10:10 +0000 2017   \n",
       "14        20        115715     True  Tue Oct 31 22:03:34 +0000 2017   \n",
       "15        21  Ask_Spectrum    False  Tue Oct 31 22:14:37 +0000 2017   \n",
       "16        22        115716     True  Tue Oct 31 22:16:48 +0000 2017   \n",
       "17        25  Ask_Spectrum    False  Tue Oct 31 22:18:28 +0000 2017   \n",
       "18        26        115716     True  Tue Oct 31 22:19:56 +0000 2017   \n",
       "19        27  Ask_Spectrum    False  Tue Oct 31 22:21:26 +0000 2017   \n",
       "\n",
       "                                                 text response_tweet_id  \\\n",
       "0   @115712 I understand. I would like to assist y...                 2   \n",
       "1       @sprintcare and how do you propose we do that               NaN   \n",
       "2   @sprintcare I have sent several private messag...                 1   \n",
       "3   @115712 Please send us a Private Message so th...                 3   \n",
       "4                                  @sprintcare I did.                 4   \n",
       "5   @115712 Can you please send us a private messa...               5,7   \n",
       "6           @sprintcare is the worst customer service            9,6,10   \n",
       "7   @115713 This is saddening to hear. Please shoo...               NaN   \n",
       "8   @sprintcare You gonna magically change your co...          11,13,14   \n",
       "9   @115713 We understand your concerns and we'd l...                12   \n",
       "10  @sprintcare Since I signed up with you....Sinc...                15   \n",
       "11  @115713 H there! We'd definitely like to work ...                16   \n",
       "12  @115714 y’all lie about your “great” connectio...                17   \n",
       "13  @115715 Please send me a private message so th...               NaN   \n",
       "14  @115714 whenever I contact customer support, t...                19   \n",
       "15         @115716 What information is incorrect? ^JK             22,23   \n",
       "16  @Ask_Spectrum Would you like me to email you a...                25   \n",
       "17  @115716 Our department is part of the corporat...                26   \n",
       "18  @Ask_Spectrum I received this from your corpor...                27   \n",
       "19                          @115716 No thank you. ^JK               NaN   \n",
       "\n",
       "    in_response_to_tweet_id  \n",
       "0                       3.0  \n",
       "1                       1.0  \n",
       "2                       4.0  \n",
       "3                       5.0  \n",
       "4                       6.0  \n",
       "5                       8.0  \n",
       "6                       NaN  \n",
       "7                      12.0  \n",
       "8                      15.0  \n",
       "9                      16.0  \n",
       "10                     17.0  \n",
       "11                     18.0  \n",
       "12                      NaN  \n",
       "13                     20.0  \n",
       "14                      NaN  \n",
       "15                     24.0  \n",
       "16                     21.0  \n",
       "17                     22.0  \n",
       "18                     25.0  \n",
       "19                     26.0  "
      ]
     },
     "execution_count": 10,
     "metadata": {},
     "output_type": "execute_result"
    }
   ],
   "source": [
    "df.head(20)"
   ]
  },
  {
   "cell_type": "code",
   "execution_count": 18,
   "id": "stylish-oliver",
   "metadata": {},
   "outputs": [
    {
     "data": {
      "text/plain": [
       "0           I understand. I would like to assist you. We ...\n",
       "1                          and how do you propose we do that\n",
       "2           I have sent several private messages and no o...\n",
       "3           Please send us a Private Message so that we c...\n",
       "4                                                     I did.\n",
       "                                 ...                        \n",
       "2811769     Hey, we'd be happy to look into this for you....\n",
       "2811770     wtf!? I’ve been having really shitty service ...\n",
       "2811771      You have to go to https://t.co/v2tMHeTL7Q an...\n",
       "2811772     Sounds delicious, Sarah! 😋 https://t.co/7uQPw...\n",
       "2811773      warm sloe gin mince pies with ice cream - th...\n",
       "Name: text_nouser, Length: 2811774, dtype: object"
      ]
     },
     "execution_count": 18,
     "metadata": {},
     "output_type": "execute_result"
    }
   ],
   "source": [
    "# To Do\n",
    "# 1. Sanitize data by removing user names from text\n",
    "# df['text_nouser'] = df['text'].apply(lambda x: re.sub('@[A-Za-z0-9]+' , '', str(x.lstrip())))\n",
    "df['text_nouser'] = df['text'].apply(lambda x: re.sub('@[^\\s]+' , '', str(x.lstrip())))\n",
    "df['text_nouser']"
   ]
  },
  {
   "cell_type": "code",
   "execution_count": 19,
   "id": "double-burst",
   "metadata": {},
   "outputs": [],
   "source": [
    "# 2. Find similarities between conversations of different companies (word2vec)\n"
   ]
  },
  {
   "cell_type": "code",
   "execution_count": 20,
   "id": "compound-hunter",
   "metadata": {},
   "outputs": [],
   "source": [
    "# 3. Find distribution between corp and non corp.\n"
   ]
  },
  {
   "cell_type": "code",
   "execution_count": 21,
   "id": "backed-brother",
   "metadata": {},
   "outputs": [
    {
     "data": {
      "text/html": [
       "<div>\n",
       "<style scoped>\n",
       "    .dataframe tbody tr th:only-of-type {\n",
       "        vertical-align: middle;\n",
       "    }\n",
       "\n",
       "    .dataframe tbody tr th {\n",
       "        vertical-align: top;\n",
       "    }\n",
       "\n",
       "    .dataframe thead th {\n",
       "        text-align: right;\n",
       "    }\n",
       "</style>\n",
       "<table border=\"1\" class=\"dataframe\">\n",
       "  <thead>\n",
       "    <tr style=\"text-align: right;\">\n",
       "      <th></th>\n",
       "      <th>text</th>\n",
       "      <th>word_count</th>\n",
       "    </tr>\n",
       "  </thead>\n",
       "  <tbody>\n",
       "    <tr>\n",
       "      <th>0</th>\n",
       "      <td>@115712 I understand. I would like to assist y...</td>\n",
       "      <td>23</td>\n",
       "    </tr>\n",
       "    <tr>\n",
       "      <th>1</th>\n",
       "      <td>@sprintcare and how do you propose we do that</td>\n",
       "      <td>9</td>\n",
       "    </tr>\n",
       "    <tr>\n",
       "      <th>2</th>\n",
       "      <td>@sprintcare I have sent several private messag...</td>\n",
       "      <td>14</td>\n",
       "    </tr>\n",
       "    <tr>\n",
       "      <th>3</th>\n",
       "      <td>@115712 Please send us a Private Message so th...</td>\n",
       "      <td>23</td>\n",
       "    </tr>\n",
       "    <tr>\n",
       "      <th>4</th>\n",
       "      <td>@sprintcare I did.</td>\n",
       "      <td>3</td>\n",
       "    </tr>\n",
       "  </tbody>\n",
       "</table>\n",
       "</div>"
      ],
      "text/plain": [
       "                                                text  word_count\n",
       "0  @115712 I understand. I would like to assist y...          23\n",
       "1      @sprintcare and how do you propose we do that           9\n",
       "2  @sprintcare I have sent several private messag...          14\n",
       "3  @115712 Please send us a Private Message so th...          23\n",
       "4                                 @sprintcare I did.           3"
      ]
     },
     "execution_count": 21,
     "metadata": {},
     "output_type": "execute_result"
    }
   ],
   "source": [
    "# 4. Find length of the conversation\n",
    "df['word_count'] = df['text'].apply(lambda x: len(str(x).split(\" \")))\n",
    "df[['text','word_count']].head(5)"
   ]
  },
  {
   "cell_type": "code",
   "execution_count": 22,
   "id": "frank-concrete",
   "metadata": {},
   "outputs": [],
   "source": [
    "# 5. Most common words in question, answers, back and forth conversation\n"
   ]
  },
  {
   "cell_type": "code",
   "execution_count": 23,
   "id": "aquatic-ratio",
   "metadata": {},
   "outputs": [],
   "source": [
    "# 6. Size of the entire and unique words\n"
   ]
  },
  {
   "cell_type": "code",
   "execution_count": 45,
   "id": "committed-republic",
   "metadata": {},
   "outputs": [
    {
     "data": {
      "text/plain": [
       "<pandas.core.groupby.generic.DataFrameGroupBy object at 0x7eff5707dbb0>"
      ]
     },
     "execution_count": 45,
     "metadata": {},
     "output_type": "execute_result"
    }
   ],
   "source": [
    "# 7. Unique conversation beginning\n",
    "conversation_starter = df[df.in_response_to_tweet_id.isna() & df.inbound]\n",
    "conversation_thread  = pd.merge(conversation_starter, df, left_on='tweet_id', \n",
    "                                  right_on='in_response_to_tweet_id')\n",
    "conversation_thread.groupby([\"author_id_x\"])"
   ]
  },
  {
   "cell_type": "code",
   "execution_count": 26,
   "id": "interpreted-fountain",
   "metadata": {},
   "outputs": [
    {
     "ename": "AttributeError",
     "evalue": "module 'bfs' has no attribute 'bfs'",
     "output_type": "error",
     "traceback": [
      "\u001b[0;31m---------------------------------------------------------------------------\u001b[0m",
      "\u001b[0;31mAttributeError\u001b[0m                            Traceback (most recent call last)",
      "\u001b[0;32m<ipython-input-26-dbf015625b6f>\u001b[0m in \u001b[0;36m<module>\u001b[0;34m\u001b[0m\n\u001b[0;32m----> 1\u001b[0;31m \u001b[0mbfs\u001b[0m\u001b[0;34m.\u001b[0m\u001b[0mbfs\u001b[0m\u001b[0;34m(\u001b[0m\u001b[0;34m)\u001b[0m\u001b[0;34m\u001b[0m\u001b[0;34m\u001b[0m\u001b[0m\n\u001b[0m",
      "\u001b[0;31mAttributeError\u001b[0m: module 'bfs' has no attribute 'bfs'"
     ]
    }
   ],
   "source": [
    "bfs.bfs()"
   ]
  },
  {
   "cell_type": "code",
   "execution_count": 15,
   "id": "direct-recall",
   "metadata": {},
   "outputs": [],
   "source": [
    "first_inbound = df[pd.isnull(df.in_response_to_tweet_id) & df.inbound]"
   ]
  },
  {
   "cell_type": "code",
   "execution_count": 160,
   "id": "loose-airline",
   "metadata": {},
   "outputs": [
    {
     "data": {
      "text/html": [
       "<div>\n",
       "<style scoped>\n",
       "    .dataframe tbody tr th:only-of-type {\n",
       "        vertical-align: middle;\n",
       "    }\n",
       "\n",
       "    .dataframe tbody tr th {\n",
       "        vertical-align: top;\n",
       "    }\n",
       "\n",
       "    .dataframe thead th {\n",
       "        text-align: right;\n",
       "    }\n",
       "</style>\n",
       "<table border=\"1\" class=\"dataframe\">\n",
       "  <thead>\n",
       "    <tr style=\"text-align: right;\">\n",
       "      <th></th>\n",
       "      <th>author_id</th>\n",
       "      <th>0</th>\n",
       "    </tr>\n",
       "  </thead>\n",
       "  <tbody>\n",
       "    <tr>\n",
       "      <th>0</th>\n",
       "      <td>10026</td>\n",
       "      <td>3</td>\n",
       "    </tr>\n",
       "    <tr>\n",
       "      <th>1</th>\n",
       "      <td>100363</td>\n",
       "      <td>1</td>\n",
       "    </tr>\n",
       "    <tr>\n",
       "      <th>2</th>\n",
       "      <td>10103</td>\n",
       "      <td>2</td>\n",
       "    </tr>\n",
       "    <tr>\n",
       "      <th>3</th>\n",
       "      <td>10221</td>\n",
       "      <td>2</td>\n",
       "    </tr>\n",
       "    <tr>\n",
       "      <th>4</th>\n",
       "      <td>10286</td>\n",
       "      <td>1</td>\n",
       "    </tr>\n",
       "    <tr>\n",
       "      <th>...</th>\n",
       "      <td>...</td>\n",
       "      <td>...</td>\n",
       "    </tr>\n",
       "    <tr>\n",
       "      <th>702772</th>\n",
       "      <td>mediatemplehelp</td>\n",
       "      <td>305</td>\n",
       "    </tr>\n",
       "    <tr>\n",
       "      <th>702773</th>\n",
       "      <td>nationalrailenq</td>\n",
       "      <td>4444</td>\n",
       "    </tr>\n",
       "    <tr>\n",
       "      <th>702774</th>\n",
       "      <td>sainsburys</td>\n",
       "      <td>19466</td>\n",
       "    </tr>\n",
       "    <tr>\n",
       "      <th>702775</th>\n",
       "      <td>sizehelpteam</td>\n",
       "      <td>1482</td>\n",
       "    </tr>\n",
       "    <tr>\n",
       "      <th>702776</th>\n",
       "      <td>sprintcare</td>\n",
       "      <td>22381</td>\n",
       "    </tr>\n",
       "  </tbody>\n",
       "</table>\n",
       "<p>702777 rows × 2 columns</p>\n",
       "</div>"
      ],
      "text/plain": [
       "              author_id      0\n",
       "0                 10026      3\n",
       "1                100363      1\n",
       "2                 10103      2\n",
       "3                 10221      2\n",
       "4                 10286      1\n",
       "...                 ...    ...\n",
       "702772  mediatemplehelp    305\n",
       "702773  nationalrailenq   4444\n",
       "702774       sainsburys  19466\n",
       "702775     sizehelpteam   1482\n",
       "702776       sprintcare  22381\n",
       "\n",
       "[702777 rows x 2 columns]"
      ]
     },
     "execution_count": 160,
     "metadata": {},
     "output_type": "execute_result"
    }
   ],
   "source": [
    "df.groupby(df.author_id).size().reset_index()"
   ]
  },
  {
   "cell_type": "code",
   "execution_count": 161,
   "id": "italian-information",
   "metadata": {},
   "outputs": [
    {
     "data": {
      "text/html": [
       "<div>\n",
       "<style scoped>\n",
       "    .dataframe tbody tr th:only-of-type {\n",
       "        vertical-align: middle;\n",
       "    }\n",
       "\n",
       "    .dataframe tbody tr th {\n",
       "        vertical-align: top;\n",
       "    }\n",
       "\n",
       "    .dataframe thead th {\n",
       "        text-align: right;\n",
       "    }\n",
       "</style>\n",
       "<table border=\"1\" class=\"dataframe\">\n",
       "  <thead>\n",
       "    <tr style=\"text-align: right;\">\n",
       "      <th></th>\n",
       "      <th>inbound</th>\n",
       "      <th>0</th>\n",
       "    </tr>\n",
       "  </thead>\n",
       "  <tbody>\n",
       "    <tr>\n",
       "      <th>0</th>\n",
       "      <td>False</td>\n",
       "      <td>1273931</td>\n",
       "    </tr>\n",
       "    <tr>\n",
       "      <th>1</th>\n",
       "      <td>True</td>\n",
       "      <td>1537843</td>\n",
       "    </tr>\n",
       "  </tbody>\n",
       "</table>\n",
       "</div>"
      ],
      "text/plain": [
       "   inbound        0\n",
       "0    False  1273931\n",
       "1     True  1537843"
      ]
     },
     "execution_count": 161,
     "metadata": {},
     "output_type": "execute_result"
    }
   ],
   "source": [
    "df.groupby(df.inbound).size().reset_index()"
   ]
  },
  {
   "cell_type": "code",
   "execution_count": null,
   "id": "loose-rings",
   "metadata": {},
   "outputs": [],
   "source": []
  }
 ],
 "metadata": {
  "kernelspec": {
   "display_name": "Python 3",
   "language": "python",
   "name": "python3"
  },
  "language_info": {
   "codemirror_mode": {
    "name": "ipython",
    "version": 3
   },
   "file_extension": ".py",
   "mimetype": "text/x-python",
   "name": "python",
   "nbconvert_exporter": "python",
   "pygments_lexer": "ipython3",
   "version": "3.8.8"
  }
 },
 "nbformat": 4,
 "nbformat_minor": 5
}
